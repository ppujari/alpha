{
 "cells": [
  {
   "cell_type": "code",
   "execution_count": 107,
   "metadata": {},
   "outputs": [],
   "source": [
    "import random\n",
    "import math\n",
    "import operator"
   ]
  },
  {
   "cell_type": "markdown",
   "metadata": {},
   "source": [
    "This data sets consists of 3 different types of irises’ (Setosa, Versicolour, and Virginica) petal and sepal length, stored in a 150x4 numpy.ndarray\n",
    "\n",
    "The rows being the samples and the columns being: Sepal Length, Sepal Width, Petal Length and Petal Width."
   ]
  },
  {
   "cell_type": "code",
   "execution_count": 108,
   "metadata": {},
   "outputs": [],
   "source": [
    "from sklearn.datasets import load_iris\n",
    "iris_data = load_iris()\n",
    "X = iris_data.data\n",
    "y = iris_data.target"
   ]
  },
  {
   "cell_type": "code",
   "execution_count": 109,
   "metadata": {},
   "outputs": [
    {
     "name": "stdout",
     "output_type": "stream",
     "text": [
      "[5.9 3.  5.1 1.8]\n"
     ]
    }
   ],
   "source": [
    "print(X[149])"
   ]
  },
  {
   "cell_type": "code",
   "execution_count": 110,
   "metadata": {},
   "outputs": [],
   "source": [
    "def euclidean_distance(training_instance, test_instance):\n",
    "    \"\"\"\n",
    "    calculates distance between two points\n",
    "\n",
    "    Parameters:\n",
    "           training_instance: is a numeric feature list - training instance\n",
    "           test_instance: point is a numeric feature list - test instance\n",
    "    Returns:\n",
    "          distance in float\n",
    "   \"\"\"\n",
    "    \n",
    "    distance = 0\n",
    "    for index in range(len(training_instance)):\n",
    "        distance += pow(test_instance[index] - training_instance[index],2)\n",
    "    return math.sqrt(distance)   \n",
    "    "
   ]
  },
  {
   "cell_type": "code",
   "execution_count": null,
   "metadata": {},
   "outputs": [],
   "source": []
  },
  {
   "cell_type": "code",
   "execution_count": 111,
   "metadata": {},
   "outputs": [
    {
     "data": {
      "text/plain": [
       "1.4142135623730951"
      ]
     },
     "execution_count": 111,
     "metadata": {},
     "output_type": "execute_result"
    }
   ],
   "source": [
    "# Euclidean Distance Caculator\n",
    "data1=[2,1]\n",
    "data2=[1,2]\n",
    "euclidean_distance(data1,data2)"
   ]
  },
  {
   "cell_type": "code",
   "execution_count": 112,
   "metadata": {},
   "outputs": [],
   "source": [
    "def get_neighbours(training_data, training_label, test_instance, k):\n",
    "    \"\"\"\n",
    "    calculates distance between two points\n",
    "\n",
    "    Parameters:\n",
    "           training_data: is a numeric feature list - training instance\n",
    "           test_instance: point is a numeric feature list - test instance\n",
    "    Returns:\n",
    "          distance in float\n",
    "   \"\"\"\n",
    "\n",
    "    distances = []\n",
    "    for x in range(len(training_data)):\n",
    "        distance = euclidean_distance(training_data[x], test_instance)\n",
    "        training_data[x].append(training_label[x]) #Append label to training record\n",
    "        distances.append((training_data[x], distance))\n",
    "    distances.sort(key=operator.itemgetter(1))\n",
    "    neighbours = []\n",
    "    for x in range(k):\n",
    "        neighbours.append(distances[x][0])\n",
    "\n",
    "    return neighbours\n",
    "       "
   ]
  },
  {
   "cell_type": "code",
   "execution_count": 113,
   "metadata": {},
   "outputs": [],
   "source": [
    "def predict(neighbours):\n",
    "    prediction = {}\n",
    "    for x in range(len(neighbours)):\n",
    "        response = neighbours[x][-1]\n",
    "        if response in prediction:\n",
    "            prediction[response] += 1\n",
    "        else:\n",
    "            prediction[response] = 1\n",
    "    sortedVotes = sorted(prediction.items(), key=operator.itemgetter(1), reverse=True)\n",
    "    return sortedVotes[0][0]"
   ]
  },
  {
   "cell_type": "code",
   "execution_count": 114,
   "metadata": {},
   "outputs": [
    {
     "name": "stdout",
     "output_type": "stream",
     "text": [
      "[[2, 2, 2, 'b']]\n",
      "b\n"
     ]
    }
   ],
   "source": [
    "x_train = [[1,1,1], [2,2,2]]\n",
    "x_test = [3,3,3]\n",
    "y_train = ['a', 'b']\n",
    "y_test  = ['b']\n",
    "\n",
    "neighbors = get_neighbours(x_train, y_train, x_test, 1)\n",
    "#print(type(X))\n",
    "print(neighbors)\n",
    "\n",
    "predicted_value = predict(neighbors)\n",
    "print(predicted_value)"
   ]
  },
  {
   "cell_type": "code",
   "execution_count": 115,
   "metadata": {},
   "outputs": [],
   "source": [
    "#How to apply to iris data\n",
    "# 1. convert numpy ndarray to python list\n",
    "# 2. split to trainging and test set\n",
    "# 3. Measure accuracy"
   ]
  },
  {
   "cell_type": "code",
   "execution_count": 116,
   "metadata": {},
   "outputs": [],
   "source": [
    "feature_set = X.tolist()\n",
    "training_set = []\n",
    "training_label = []\n",
    "test_set = []\n",
    "test_label = []\n",
    "label = y.tolist()\n",
    "split = 0.80\n",
    "for x in range(len(X)):\n",
    "    if random.random() < split:\n",
    "        training_set.append(feature_set[x])\n",
    "        training_label.append(label[x])\n",
    "    else:\n",
    "        test_set.append(feature_set[x])\n",
    "        test_label.append(label[x])\n",
    "#length = len(test_set)\n",
    "#print(test_set[length - 1])\n",
    "#print(len(test_set))"
   ]
  },
  {
   "cell_type": "code",
   "execution_count": 117,
   "metadata": {},
   "outputs": [
    {
     "name": "stdout",
     "output_type": "stream",
     "text": [
      "0\n"
     ]
    }
   ],
   "source": [
    "\n",
    "neighbors = get_neighbours(training_set, training_label, test_instance, 2)\n",
    "print(predict(neighbors))"
   ]
  },
  {
   "cell_type": "code",
   "execution_count": 45,
   "metadata": {},
   "outputs": [
    {
     "ename": "SyntaxError",
     "evalue": "invalid syntax (<ipython-input-45-f958e93f8f63>, line 3)",
     "output_type": "error",
     "traceback": [
      "\u001b[0;36m  File \u001b[0;32m\"<ipython-input-45-f958e93f8f63>\"\u001b[0;36m, line \u001b[0;32m3\u001b[0m\n\u001b[0;31m    centroids = {i + 1 : for i in range(k)}\u001b[0m\n\u001b[0m                           ^\u001b[0m\n\u001b[0;31mSyntaxError\u001b[0m\u001b[0;31m:\u001b[0m invalid syntax\n"
     ]
    }
   ],
   "source": [
    "def kmeans(input_data, k):\n",
    "    #assign random values to centroid\n",
    "    centroids = {i + 1 : for i in range(k)}"
   ]
  },
  {
   "cell_type": "code",
   "execution_count": 1,
   "metadata": {
    "collapsed": true
   },
   "outputs": [],
   "source": [
    "from sklearn import datasets\n",
    "from sklearn.multiclass import OneVsRestClassifier\n",
    "from sklearn.svm import LinearSVC\n",
    "iris = datasets.load_iris()"
   ]
  },
  {
   "cell_type": "code",
   "execution_count": 2,
   "metadata": {
    "collapsed": true
   },
   "outputs": [],
   "source": [
    "X, y = iris.data, iris.target"
   ]
  },
  {
   "cell_type": "code",
   "execution_count": 3,
   "metadata": {
    "collapsed": true
   },
   "outputs": [],
   "source": [
    "model = OneVsRestClassifier(LinearSVC(random_state=0)).fit(X, y)"
   ]
  },
  {
   "cell_type": "code",
   "execution_count": 8,
   "metadata": {},
   "outputs": [
    {
     "name": "stdout",
     "output_type": "stream",
     "text": [
      "150\n"
     ]
    }
   ],
   "source": [
    "print(len(y))"
   ]
  },
  {
   "cell_type": "code",
   "execution_count": 9,
   "metadata": {},
   "outputs": [],
   "source": [
    "prediction = model.predict(X) "
   ]
  },
  {
   "cell_type": "code",
   "execution_count": 11,
   "metadata": {},
   "outputs": [
    {
     "name": "stdout",
     "output_type": "stream",
     "text": [
      "[0 0 0 0 0 0 0 0 0 0 0 0 0 0 0 0 0 0 0 0 0 0 0 0 0 0 0 0 0 0 0 0 0 0 0 0 0\n",
      " 0 0 0 0 0 0 0 0 0 0 0 0 0 1 1 1 1 1 1 1 1 1 1 1 1 1 1 1 1 1 1 1 1 2 1 1 1\n",
      " 1 1 1 1 1 1 1 1 1 2 2 1 1 1 1 1 1 1 1 1 1 1 1 1 1 1 2 2 2 2 2 2 2 2 2 2 2\n",
      " 2 2 2 2 2 2 2 2 2 2 2 2 2 2 2 2 2 2 1 2 2 2 1 2 2 2 2 2 2 2 2 2 2 2 2 2 2\n",
      " 2 2]\n"
     ]
    }
   ],
   "source": [
    "print(prediction)"
   ]
  },
  {
   "cell_type": "code",
   "execution_count": null,
   "metadata": {
    "collapsed": true
   },
   "outputs": [],
   "source": []
  }
 ],
 "metadata": {
  "kernelspec": {
   "display_name": "Python 3",
   "language": "python",
   "name": "python3"
  },
  "language_info": {
   "codemirror_mode": {
    "name": "ipython",
    "version": 3
   },
   "file_extension": ".py",
   "mimetype": "text/x-python",
   "name": "python",
   "nbconvert_exporter": "python",
   "pygments_lexer": "ipython3",
   "version": "3.6.7"
  }
 },
 "nbformat": 4,
 "nbformat_minor": 2
}
